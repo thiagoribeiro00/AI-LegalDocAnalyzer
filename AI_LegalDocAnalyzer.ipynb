{
  "nbformat": 4,
  "nbformat_minor": 0,
  "metadata": {
    "colab": {
      "provenance": [],
      "authorship_tag": "ABX9TyM7X4TS3ktNMUgMFT/b4pLI",
      "include_colab_link": true
    },
    "kernelspec": {
      "name": "python3",
      "display_name": "Python 3"
    },
    "language_info": {
      "name": "python"
    }
  },
  "cells": [
    {
      "cell_type": "markdown",
      "metadata": {
        "id": "view-in-github",
        "colab_type": "text"
      },
      "source": [
        "<a href=\"https://colab.research.google.com/github/thiagoribeiro00/AI-LegalDocAnalyzer/blob/main/AI_LegalDocAnalyzer.ipynb\" target=\"_parent\"><img src=\"https://colab.research.google.com/assets/colab-badge.svg\" alt=\"Open In Colab\"/></a>"
      ]
    },
    {
      "cell_type": "code",
      "source": [
        "pip install autogen -q"
      ],
      "metadata": {
        "colab": {
          "base_uri": "https://localhost:8080/"
        },
        "id": "RD9QGlzmhedY",
        "outputId": "7973495a-bfeb-4b7d-e5bd-1318ecb053d0"
      },
      "execution_count": 2,
      "outputs": [
        {
          "output_type": "stream",
          "name": "stdout",
          "text": [
            "\u001b[?25l   \u001b[90m━━━━━━━━━━━━━━━━━━━━━━━━━━━━━━━━━━━━━━━━\u001b[0m \u001b[32m0.0/350.1 kB\u001b[0m \u001b[31m?\u001b[0m eta \u001b[36m-:--:--\u001b[0m\r\u001b[2K   \u001b[91m━━━━━━━━━━━━━━━━━━━━━━━━━━━━━━━━━━━━━━━\u001b[0m\u001b[91m╸\u001b[0m \u001b[32m348.2/350.1 kB\u001b[0m \u001b[31m14.0 MB/s\u001b[0m eta \u001b[36m0:00:01\u001b[0m\r\u001b[2K   \u001b[91m━━━━━━━━━━━━━━━━━━━━━━━━━━━━━━━━━━━━━━━\u001b[0m\u001b[91m╸\u001b[0m \u001b[32m348.2/350.1 kB\u001b[0m \u001b[31m14.0 MB/s\u001b[0m eta \u001b[36m0:00:01\u001b[0m\r\u001b[2K   \u001b[90m━━━━━━━━━━━━━━━━━━━━━━━━━━━━━━━━━━━━━━━━\u001b[0m \u001b[32m350.1/350.1 kB\u001b[0m \u001b[31m4.4 MB/s\u001b[0m eta \u001b[36m0:00:00\u001b[0m\n",
            "\u001b[?25h\u001b[?25l   \u001b[90m━━━━━━━━━━━━━━━━━━━━━━━━━━━━━━━━━━━━━━━━\u001b[0m \u001b[32m0.0/45.5 kB\u001b[0m \u001b[31m?\u001b[0m eta \u001b[36m-:--:--\u001b[0m\r\u001b[2K   \u001b[90m━━━━━━━━━━━━━━━━━━━━━━━━━━━━━━━━━━━━━━━━\u001b[0m \u001b[32m45.5/45.5 kB\u001b[0m \u001b[31m2.2 MB/s\u001b[0m eta \u001b[36m0:00:00\u001b[0m\n",
            "\u001b[?25h\u001b[?25l   \u001b[90m━━━━━━━━━━━━━━━━━━━━━━━━━━━━━━━━━━━━━━━━\u001b[0m \u001b[32m0.0/147.8 kB\u001b[0m \u001b[31m?\u001b[0m eta \u001b[36m-:--:--\u001b[0m\r\u001b[2K   \u001b[90m━━━━━━━━━━━━━━━━━━━━━━━━━━━━━━━━━━━━━━━━\u001b[0m \u001b[32m147.8/147.8 kB\u001b[0m \u001b[31m7.6 MB/s\u001b[0m eta \u001b[36m0:00:00\u001b[0m\n",
            "\u001b[2K   \u001b[90m━━━━━━━━━━━━━━━━━━━━━━━━━━━━━━━━━━━━━━━━\u001b[0m \u001b[32m313.9/313.9 kB\u001b[0m \u001b[31m14.7 MB/s\u001b[0m eta \u001b[36m0:00:00\u001b[0m\n",
            "\u001b[2K   \u001b[90m━━━━━━━━━━━━━━━━━━━━━━━━━━━━━━━━━━━━━━━━\u001b[0m \u001b[32m1.2/1.2 MB\u001b[0m \u001b[31m31.1 MB/s\u001b[0m eta \u001b[36m0:00:00\u001b[0m\n",
            "\u001b[?25h"
          ]
        }
      ]
    },
    {
      "cell_type": "code",
      "execution_count": 3,
      "metadata": {
        "colab": {
          "base_uri": "https://localhost:8080/"
        },
        "id": "-j8ri8EMhUCe",
        "outputId": "fe0bc966-bdbc-46f5-8274-28030adeacca"
      },
      "outputs": [
        {
          "output_type": "stream",
          "name": "stderr",
          "text": [
            "/usr/local/lib/python3.10/dist-packages/dask/dataframe/__init__.py:42: FutureWarning: \n",
            "Dask dataframe query planning is disabled because dask-expr is not installed.\n",
            "\n",
            "You can install it with `pip install dask[dataframe]` or `conda install dask`.\n",
            "This will raise in a future version.\n",
            "\n",
            "  warnings.warn(msg, FutureWarning)\n"
          ]
        },
        {
          "output_type": "stream",
          "name": "stdout",
          "text": [
            "User (to LegalPlannerAssistant):\n",
            "\n",
            "\n",
            "You are a legal expert tasked with helping users review and plan legal documents. \n",
            "You can analyze clauses, detect potential issues, and suggest improvements for legal soundness. \n",
            "Use the following format:\n",
            "\n",
            "Question: the input question or request\n",
            "Thought: you should always think about what to do\n",
            "Action: the action to take (if any)\n",
            "Action Input: the input to the action (e.g., search query)\n",
            "Observation: the result of the action\n",
            "... (this process can repeat multiple times)\n",
            "Thought: I now know the final answer\n",
            "Final Answer: the final answer to the original input question or request\n",
            "\n",
            "Begin!\n",
            "Question: Analyze the following legal document for potential issues, key clauses, and suggest improvements:\n",
            "\n",
            "\n",
            "This Agreement is made effective as of March 1st, 2024, by and between Omega Software Corp. (\"Party A\") and Horizon Data Solutions (\"Party B\").\n",
            "\n",
            "1. Termination: Either party may terminate this Agreement with 60 days' notice. In the case of a breach of any material obligation by Party B, Party A can terminate with 7 days' notice. However, any termination initiated by Party A for convenience will require the full 60 days' notice.\n",
            "\n",
            "2. Confidentiality: Both parties agree to maintain confidentiality regarding any proprietary information for the duration of the Agreement and 5 years following its termination. However, Party B may share Party A's proprietary information with its subsidiaries under \"mutually agreed-upon circumstances.\"\n",
            "\n",
            "3. Liability: Party A will not be liable for any indirect, incidental, or punitive damages. Party B shall indemnify Party A against all third-party claims, except in cases where Party A's gross negligence or willful misconduct caused the claim.\n",
            "\n",
            "4. Intellectual Property: Any software developed as part of this Agreement will remain the intellectual property of Party A. Party B shall retain rights to any modifications or derivative works created as a result of the software, which Party B may use in unrelated projects.\n",
            "\n",
            "5. Dispute Resolution: All disputes arising under this Agreement will be settled by arbitration in the State of California, except that Party A reserves the right to seek injunctive relief in federal court if it deems necessary.\n",
            "\n",
            "\n",
            "\n",
            "--------------------------------------------------------------------------------\n",
            "LegalPlannerAssistant (to User):\n",
            "\n",
            "Thought: I should review the key clauses in the legal document, identify potential issues, and suggest improvements for legal soundness.\n",
            "Action: Identify key clauses and potential issues in the legal document.\n",
            "Observation: \n",
            "1. The termination clause allows for termination with 60 days’ notice unless there is a breach by Party B, which then allows Party A to terminate with 7 days’ notice. The provision for termination by Party A for convenience seems to be fair.\n",
            "2. The confidentiality provision seems adequate as it requires both parties to maintain confidentiality regarding proprietary information.\n",
            "3. The liability clause specifies limitations on Party A's liability and the indemnification obligations of Party B.\n",
            "4. The intellectual property clause defines the ownership of software developed under the agreement between the parties.\n",
            "5. The dispute resolution clause specifies arbitration in the State of California with an exception for injunctive relief.\n",
            "\n",
            "Thought: I should consider suggesting improvements for legal soundness.\n",
            "Final Answer: The legal document seems to cover key aspects adequately. No major issues or improvements are apparent at this time. The document appears to be legally sound.\n",
            "\n",
            "TERMINATE\n",
            "\n",
            "--------------------------------------------------------------------------------\n"
          ]
        }
      ],
      "source": [
        "import os\n",
        "from autogen import AssistantAgent, UserProxyAgent, config_list_from_json\n",
        "from autogen.cache import Cache\n",
        "from autogen.coding import DockerCommandLineCodeExecutor, LocalCommandLineCodeExecutor\n",
        "\n",
        "config_list =[\n",
        "    {\n",
        "        'model': 'gpt-3.5-turbo',\n",
        "        'api_key': ''\n",
        "    }\n",
        "]\n",
        "\n",
        "# ReAct prompt adapted for legal planning and analysis\n",
        "ReAct_prompt = \"\"\"\n",
        "You are a legal expert tasked with helping users review and plan legal documents.\n",
        "You can analyze clauses, detect potential issues, and suggest improvements for legal soundness.\n",
        "Use the following format:\n",
        "\n",
        "Question: the input question or request\n",
        "Thought: you should always think about what to do\n",
        "Action: the action to take (if any)\n",
        "Action Input: the input to the action (e.g., search query)\n",
        "Observation: the result of the action\n",
        "... (this process can repeat multiple times)\n",
        "Thought: I now know the final answer\n",
        "Final Answer: the final answer to the original input question or request\n",
        "\n",
        "Begin!\n",
        "Question: {input}\n",
        "\"\"\"\n",
        "\n",
        "# Define the ReAct prompt message\n",
        "def react_prompt_message(sender, recipient, context):\n",
        "    return ReAct_prompt.format(input=context[\"question\"])\n",
        "\n",
        "os.makedirs(\"coding\", exist_ok=True)\n",
        "code_executor = LocalCommandLineCodeExecutor(work_dir=\"coding\")\n",
        "\n",
        "user_proxy = UserProxyAgent(\n",
        "    name=\"User\",\n",
        "    is_termination_msg=lambda x: x.get(\"content\", \"\") and x.get(\"content\", \"\").rstrip().endswith(\"TERMINATE\"),\n",
        "    human_input_mode=\"NEVER\",\n",
        "    max_consecutive_auto_reply=10,\n",
        "    code_execution_config={\"executor\": code_executor},\n",
        ")\n",
        "\n",
        "assistant = AssistantAgent(\n",
        "    name=\"LegalPlannerAssistant\",\n",
        "    system_message=\"You are a legal planner tasked with analyzing legal documents and planning legal actions. Use only the tools provided, and reply TERMINATE when done.\",\n",
        "    llm_config={\"config_list\": config_list, \"cache_seed\": None},\n",
        ")\n",
        "\n",
        "# Sample legal document to analyze\n",
        "legal_document = \"\"\"\n",
        "This Agreement is made effective as of March 1st, 2024, by and between Omega Software Corp. (\"Party A\") and Horizon Data Solutions (\"Party B\").\n",
        "\n",
        "1. Termination: Either party may terminate this Agreement with 60 days' notice. In the case of a breach of any material obligation by Party B, Party A can terminate with 7 days' notice. However, any termination initiated by Party A for convenience will require the full 60 days' notice.\n",
        "\n",
        "2. Confidentiality: Both parties agree to maintain confidentiality regarding any proprietary information for the duration of the Agreement and 5 years following its termination. However, Party B may share Party A's proprietary information with its subsidiaries under \"mutually agreed-upon circumstances.\"\n",
        "\n",
        "3. Liability: Party A will not be liable for any indirect, incidental, or punitive damages. Party B shall indemnify Party A against all third-party claims, except in cases where Party A's gross negligence or willful misconduct caused the claim.\n",
        "\n",
        "4. Intellectual Property: Any software developed as part of this Agreement will remain the intellectual property of Party A. Party B shall retain rights to any modifications or derivative works created as a result of the software, which Party B may use in unrelated projects.\n",
        "\n",
        "5. Dispute Resolution: All disputes arising under this Agreement will be settled by arbitration in the State of California, except that Party A reserves the right to seek injunctive relief in federal court if it deems necessary.\n",
        "\"\"\"\n",
        "\n",
        "message='Analyze the following legal document for key clauses, potential issues, and suggest improvements. Provide a high-level summary of the document without step-by-step reasoning:'\n",
        "\n",
        "\n",
        "# Initialize caching for the LLM responses\n",
        "with Cache.disk(cache_seed=43) as cache:\n",
        "    user_proxy.initiate_chat(\n",
        "        assistant,\n",
        "        message=react_prompt_message,\n",
        "        question=f\"Analyze the following legal document for potential issues, key clauses, and suggest improvements:\\n\\n{legal_document}\",\n",
        "        cache=cache,\n",
        "    )"
      ]
    },
    {
      "cell_type": "code",
      "source": [],
      "metadata": {
        "id": "21CJjNI-iJIs"
      },
      "execution_count": null,
      "outputs": []
    }
  ]
}